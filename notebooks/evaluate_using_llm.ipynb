{
 "cells": [
  {
   "cell_type": "code",
   "execution_count": 3,
   "id": "86ca44b4",
   "metadata": {},
   "outputs": [
    {
     "name": "stdout",
     "output_type": "stream",
     "text": [
      "Hello there! Nice to meet you. How can I help today?\n",
      "\n",
      "If you’re learning to code, here are quick \"Hello, world!\" examples in a few languages:\n",
      "\n",
      "- Python: print(\"Hello, world!\")\n",
      "- JavaScript: console.log(\"Hello, world!\");\n",
      "- C: #include <stdio.h>\\nint main() { printf(\"Hello, world!\"); return 0; }\n",
      "- Java: public class Main { public static void main(String[] args) { System.out.println(\"Hello, world!\"); } }\n",
      "- Rust: fn main() { println!(\"Hello, world!\"); }\n",
      "\n",
      "Want me to tailor examples to a language you’re learning or build something else?\n"
     ]
    }
   ],
   "source": [
    "import requests\n",
    "import json\n",
    "\n",
    "response = requests.post(\n",
    "    url=\"https://lightning.ai/api/v1/chat/completions\",\n",
    "    headers={\n",
    "        \"Authorization\": \"Bearer\",\n",
    "        \"Content-Type\": \"application/json\",\n",
    "    },\n",
    "    data=json.dumps({\n",
    "        \"model\": \"openai/gpt-5-nano\",\n",
    "        \"messages\": [\n",
    "          {\n",
    "            \"role\": \"user\",\n",
    "            \"content\": [{ \"type\": \"text\", \"text\": \"Hello, world!\" }]\n",
    "          },\n",
    "        ],\n",
    "    })\n",
    ")\n",
    "print(json.loads(response.content)['choices'][0]['message']['content'])\n"
   ]
  },
  {
   "cell_type": "code",
   "execution_count": null,
   "id": "c1ef8ac2",
   "metadata": {},
   "outputs": [],
   "source": [
    "\n"
   ]
  },
  {
   "cell_type": "code",
   "execution_count": null,
   "id": "c0ec7e64",
   "metadata": {},
   "outputs": [],
   "source": [
    "\n"
   ]
  },
  {
   "cell_type": "code",
   "execution_count": null,
   "id": "27d4ef62",
   "metadata": {},
   "outputs": [],
   "source": [
    "\n"
   ]
  },
  {
   "cell_type": "code",
   "execution_count": null,
   "id": "82769c87",
   "metadata": {},
   "outputs": [],
   "source": [
    "\n"
   ]
  },
  {
   "cell_type": "markdown",
   "id": "f315be25",
   "metadata": {},
   "source": [
    "\n"
   ]
  },
  {
   "cell_type": "code",
   "execution_count": null,
   "id": "286fa606",
   "metadata": {},
   "outputs": [],
   "source": [
    "\n"
   ]
  },
  {
   "cell_type": "markdown",
   "id": "289ee578",
   "metadata": {},
   "source": [
    "\n"
   ]
  },
  {
   "cell_type": "code",
   "execution_count": null,
   "id": "4804b414",
   "metadata": {},
   "outputs": [],
   "source": []
  }
 ],
 "metadata": {
  "kernelspec": {
   "display_name": ".venv",
   "language": "python",
   "name": "python3"
  },
  "language_info": {
   "codemirror_mode": {
    "name": "ipython",
    "version": 3
   },
   "file_extension": ".py",
   "mimetype": "text/x-python",
   "name": "python",
   "nbconvert_exporter": "python",
   "pygments_lexer": "ipython3",
   "version": "3.12.11"
  }
 },
 "nbformat": 4,
 "nbformat_minor": 5
}
