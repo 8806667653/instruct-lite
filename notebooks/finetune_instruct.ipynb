{
  "cells": [
    {
      "cell_type": "markdown",
      "metadata": {},
      "source": [
        "# Instruction Fine-tuning\n",
        "\n",
        "This notebook demonstrates fine-tuning a model on instruction data (Alpaca-style).\n"
      ]
    },
    {
      "cell_type": "code",
      "execution_count": 13,
      "metadata": {},
      "outputs": [],
      "source": [
        "import sys\n",
        "sys.path.append('..')\n",
        "\n",
        "import torch\n",
        "import tiktoken\n",
        "from src.model import GPTModel, GPT_CONFIG_124M\n",
        "from src.finetune import train_model_simple, generate_text_simple, text_to_token_ids, token_ids_to_text\n",
        "from src.formatter import format_input_advanced\n",
        "from torch.utils.data import DataLoader\n"
      ]
    },
    {
      "cell_type": "code",
      "execution_count": 14,
      "metadata": {},
      "outputs": [
        {
          "name": "stdout",
          "output_type": "stream",
          "text": [
            "Number of entries: 52002\n"
          ]
        }
      ],
      "source": [
        "import json\n",
        "import os\n",
        "import urllib.request\n",
        "import ssl\n",
        "import certifi\n",
        "\n",
        "def download_and_load_file(file_path, url):\n",
        "    if not os.path.exists(file_path):\n",
        "        # Create verified SSL context\n",
        "        ssl_context = ssl.create_default_context(cafile=certifi.where())\n",
        "        with urllib.request.urlopen(url, context=ssl_context) as response:\n",
        "            text_data = response.read().decode(\"utf-8\")\n",
        "        with open(file_path, \"w\", encoding=\"utf-8\") as file:\n",
        "            file.write(text_data)\n",
        "    \n",
        "    with open(file_path, \"r\") as file:\n",
        "        data = json.load(file)\n",
        "    return data\n",
        "\n",
        "file_path = \"../data/alpaca-instruction-data.json\"\n",
        "url = \"https://raw.githubusercontent.com/tatsu-lab/stanford_alpaca/main/alpaca_data.json\"\n",
        "\n",
        "data = download_and_load_file(file_path, url)\n",
        "print(\"Number of entries:\", len(data))\n"
      ]
    },
    {
      "cell_type": "code",
      "execution_count": 15,
      "metadata": {},
      "outputs": [
        {
          "name": "stdout",
          "output_type": "stream",
          "text": [
            "Example entry:\n",
            " {'instruction': 'Give three tips for staying healthy.', 'input': '', 'output': '1.Eat a balanced diet and make sure to include plenty of fruits and vegetables. \\n2. Exercise regularly to keep your body active and strong. \\n3. Get enough sleep and maintain a consistent sleep schedule.'}\n"
          ]
        }
      ],
      "source": [
        "print(\"Example entry:\\n\", data[0])"
      ]
    },
    {
      "cell_type": "code",
      "execution_count": 16,
      "metadata": {},
      "outputs": [],
      "source": [
        "# Configure the prompt style - choose from: 'enhanced', 'chatml', 'task_aware', 'cot', 'structured'\n",
        "PROMPT_STYLE = 'enhanced'\n",
        "\n",
        "def format_input(entry):\n",
        "    \"\"\"\n",
        "    Format instruction using the advanced formatter module.\n",
        "    \n",
        "    Available styles:\n",
        "    - 'enhanced': Improved Alpaca format (recommended)\n",
        "    - 'chatml': ChatML-style format (ChatGPT/GPT-4 style)\n",
        "    - 'task_aware': Adapts based on task type\n",
        "    - 'cot': Chain-of-thought for reasoning tasks\n",
        "    - 'structured': Encourages structured outputs\n",
        "    \"\"\"\n",
        "    return format_input_advanced(entry, style=PROMPT_STYLE)"
      ]
    },
    {
      "cell_type": "code",
      "execution_count": 17,
      "metadata": {},
      "outputs": [
        {
          "name": "stdout",
          "output_type": "stream",
          "text": [
            "Testing different prompt formats with the first data entry:\n",
            "\n",
            "================================================================================\n",
            "\n",
            "📝 Style: ENHANCED\n",
            "--------------------------------------------------------------------------------\n",
            "Below is an instruction that describes a task. Write a response that appropriately completes the request.\n",
            "\n",
            "### Instruction:\n",
            "Give three tips for staying healthy.\n",
            "### Response:\n",
            "\n",
            "================================================================================\n",
            "\n",
            "📝 Style: CHATML\n",
            "--------------------------------------------------------------------------------\n",
            "<|im_start|>system\n",
            "You are a helpful AI assistant that follows instructions precisely.<|im_end|>\n",
            "<|im_start|>user\n",
            "Give three tips for staying healthy.<|im_end|>\n",
            "<|im_start|>assistant\n",
            "\n",
            "================================================================================\n",
            "\n",
            "📝 Style: TASK_AWARE\n",
            "--------------------------------------------------------------------------------\n",
            "[SYSTEM] You are a helpful assistant. Follow instructions carefully and provide accurate responses.\n",
            "\n",
            "[TASK] Give three tips for staying healthy.\n",
            "\n",
            "[RESPONSE]\n",
            "================================================================================\n",
            "\n",
            "📝 Style: COT\n",
            "--------------------------------------------------------------------------------\n",
            "Below is an instruction that describes a task. Write a response that appropriately completes the request.\n",
            "\n",
            "### Instruction:\n",
            "Give three tips for staying healthy.\n",
            "### Response:\n",
            "\n",
            "================================================================================\n",
            "\n",
            "📝 Style: STRUCTURED\n",
            "--------------------------------------------------------------------------------\n",
            "Task: Give three tips for staying healthy.\n",
            "Respond in this format:\n",
            "1. [First point]\n",
            "2. [Second point]\n",
            "3. [Third point]\n",
            "\n",
            "Your response:\n",
            "\n",
            "================================================================================\n"
          ]
        }
      ],
      "source": [
        "# Demo: Compare different formatting styles\n",
        "print(\"Testing different prompt formats with the first data entry:\\n\")\n",
        "print(\"=\"*80)\n",
        "\n",
        "example = data[0]\n",
        "\n",
        "styles = ['enhanced', 'chatml', 'task_aware', 'cot', 'structured']\n",
        "\n",
        "for style in styles:\n",
        "    print(f\"\\n📝 Style: {style.upper()}\")\n",
        "    print(\"-\"*80)\n",
        "    formatted = format_input_advanced(example, style=style)\n",
        "    print(formatted)\n",
        "    print(\"=\"*80)\n"
      ]
    },
    {
      "cell_type": "code",
      "execution_count": null,
      "metadata": {},
      "outputs": [],
      "source": []
    }
  ],
  "metadata": {
    "kernelspec": {
      "display_name": "venv",
      "language": "python",
      "name": "python3"
    },
    "language_info": {
      "codemirror_mode": {
        "name": "ipython",
        "version": 3
      },
      "file_extension": ".py",
      "mimetype": "text/x-python",
      "name": "python",
      "nbconvert_exporter": "python",
      "pygments_lexer": "ipython3",
      "version": "3.11.1"
    }
  },
  "nbformat": 4,
  "nbformat_minor": 2
}
